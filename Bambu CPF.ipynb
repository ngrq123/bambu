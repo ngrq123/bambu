{
 "cells": [
  {
   "cell_type": "code",
   "execution_count": 1,
   "metadata": {},
   "outputs": [],
   "source": [
    "import requests\n",
    "import json\n",
    "import datetime\n",
    "import numpy as np\n",
    "import matplotlib.pyplot as plt\n",
    "import seaborn as sns\n",
    "%matplotlib inline\n",
    "\n",
    "# User inputs\n",
    "cpf_current_account_balance = 375.67\n",
    "cpf_medisave_account_balance = 145.6\n",
    "cpf_special_account_balance = 90.2\n",
    "\n",
    "date_of_birth = datetime.datetime(1995, 9, 8)\n",
    "monthly_salary = 10000\n",
    "annual_bonus = 15000\n",
    "\n",
    "goal_age = 55\n",
    "\n",
    "ageToBuy = 30\n",
    "houseAmount = 500000.00\n",
    "downpaymentPct = 0.1\n",
    "yearsToGo = 30\n",
    "monthsToGo = yearsToGo*12\n",
    "\n",
    "cpf_investments = 15674\n",
    "\n",
    "inflation_rate = 0.01"
   ]
  },
  {
   "cell_type": "markdown",
   "metadata": {},
   "source": [
    "# Find out CPF Min Sum"
   ]
  },
  {
   "cell_type": "code",
   "execution_count": 2,
   "metadata": {},
   "outputs": [
    {
     "data": {
      "text/plain": [
       "datetime.datetime(2050, 9, 8, 0, 0)"
      ]
     },
     "execution_count": 2,
     "metadata": {},
     "output_type": "execute_result"
    }
   ],
   "source": [
    "date_turning_55 = datetime.datetime(date_of_birth.year + 55, date_of_birth.month, date_of_birth.day)\n",
    "date_turning_55"
   ]
  },
  {
   "cell_type": "code",
   "execution_count": 3,
   "metadata": {},
   "outputs": [],
   "source": [
    "def retrieveMinSum(date_turning_55):\n",
    "    # date_turning_55: datetime.datetime object\n",
    "    # Returns minimum CPF sum: int\n",
    "    \n",
    "    # 55th birthday on or after 1 July for 2003 to 2015, and\n",
    "    # 1 January from 2017 onwards (no date for 2016)\n",
    "    retirement_sums_dict = {2002: 0,\n",
    "                            2003: 80000,\n",
    "                            2004: 84500,\n",
    "                            2005: 90000,\n",
    "                            2006: 94600,\n",
    "                            2007: 99600,\n",
    "                            2008: 106000,\n",
    "                            2009: 117000,\n",
    "                            2010: 123000,\n",
    "                            2011: 131000,\n",
    "                            2012: 139000,\n",
    "                            2013: 148000,\n",
    "                            2014: 155000,\n",
    "                            2015: 161000,\n",
    "                            2016: 161000,\n",
    "                            2017: 166000,\n",
    "                            2018: 171000,\n",
    "                            2019: 176000,\n",
    "                            2020: 181000}\n",
    "    \n",
    "    min_cpf_sum = min_cpf_sum = retirement_sums_dict[2020]\n",
    "    if date_turning_55.year < 2003:\n",
    "        # Before 2003\n",
    "        min_cpf_sum = 0\n",
    "    elif date_turning_55.year < 2017:\n",
    "        # Between 2003 to 2017\n",
    "        # Check if before or after July\n",
    "        if date_turning_55.month < 7:\n",
    "            # Added 2002 in dictionary for corner case where 55th birthday is on 2003 but before July\n",
    "            min_cpf_sum = retirement_sums_dict[date_turning_55.year - 1]\n",
    "        else:\n",
    "            min_cpf_sum = retirement_sums_dict[date_turning_55.year]\n",
    "    elif date_turning_55.year < 2020:\n",
    "            min_cpf_sum = retirement_sums_dict[date_turning_55.year]\n",
    "            \n",
    "    return min_cpf_sum"
   ]
  },
  {
   "cell_type": "code",
   "execution_count": 4,
   "metadata": {},
   "outputs": [
    {
     "data": {
      "text/plain": [
       "181000"
      ]
     },
     "execution_count": 4,
     "metadata": {},
     "output_type": "execute_result"
    }
   ],
   "source": [
    "min_cpf_sum = retrieveMinSum(date_turning_55)\n",
    "min_cpf_sum"
   ]
  },
  {
   "cell_type": "markdown",
   "metadata": {},
   "source": [
    "# (To Generate Chart for Slides)"
   ]
  },
  {
   "cell_type": "code",
   "execution_count": 5,
   "metadata": {},
   "outputs": [
    {
     "data": {
      "text/plain": [
       "[<matplotlib.lines.Line2D at 0x2343b67d940>]"
      ]
     },
     "execution_count": 5,
     "metadata": {},
     "output_type": "execute_result"
    },
    {
     "data": {
      "image/png": "[encoded data removed]",
      "text/plain": [
       "<Figure size 432x288 with 1 Axes>"
      ]
     },
     "metadata": {},
     "output_type": "display_data"
    }
   ],
   "source": [
    "retirement_sums_dict = {2002: 0,\n",
    "                            2003: 80000,\n",
    "                            2004: 84500,\n",
    "                            2005: 90000,\n",
    "                            2006: 94600,\n",
    "                            2007: 99600,\n",
    "                            2008: 106000,\n",
    "                            2009: 117000,\n",
    "                            2010: 123000,\n",
    "                            2011: 131000,\n",
    "                            2012: 139000,\n",
    "                            2013: 148000,\n",
    "                            2014: 155000,\n",
    "                            2015: 161000,\n",
    "                            2016: 161000,\n",
    "                            2017: 166000,\n",
    "                            2018: 171000,\n",
    "                            2019: 176000,\n",
    "                            2020: 181000}\n",
    "\n",
    "years_list = list(retirement_sums_dict.keys())\n",
    "retirement_sums_list = list(retirement_sums_dict.values())\n",
    "\n",
    "sns.set_context(\"talk\")\n",
    "sns.set_style('darkgrid')\n",
    "\n",
    "plt.xticks(np.arange(2004, 2021, step=2))\n",
    "plt.xlim(2003, 2020)\n",
    "plt.ylim(0, 200000)\n",
    "\n",
    "plt.plot(years_list[1:], retirement_sums_list[1:], marker='.')"
   ]
  },
  {
   "cell_type": "markdown",
   "metadata": {},
   "source": [
    "# Get Current Age"
   ]
  },
  {
   "cell_type": "code",
   "execution_count": 6,
   "metadata": {},
   "outputs": [],
   "source": [
    "def get_current_age(date_of_birth):\n",
    "    # date_of_birth: datetime.datetime object\n",
    "    # Returns age: int\n",
    "    return datetime.datetime.today().year - date_of_birth.year"
   ]
  },
  {
   "cell_type": "code",
   "execution_count": 7,
   "metadata": {},
   "outputs": [
    {
     "data": {
      "text/plain": [
       "23"
      ]
     },
     "execution_count": 7,
     "metadata": {},
     "output_type": "execute_result"
    }
   ],
   "source": [
    "age = get_current_age(date_of_birth)\n",
    "age"
   ]
  },
  {
   "cell_type": "markdown",
   "metadata": {},
   "source": [
    "# Determine CPF Contribution"
   ]
  },
  {
   "cell_type": "code",
   "execution_count": 8,
   "metadata": {},
   "outputs": [],
   "source": [
    "def get_annual_CPF_contribution(date_of_birth, monthly_salary, annual_bonus=0, age=get_current_age(date_of_birth)):\n",
    "    # date_of_birth: datetime.datetime object\n",
    "    # monthly_salary: number\n",
    "    # annual_bonus (optional): number, default 0\n",
    "    # age (optional): numberm, default current age\n",
    "    # Returns CPF contribution: number\n",
    "    \n",
    "    # Invoke Non-Pension CPF Contribution Calculator\n",
    "    url = \"http://dev.bambu.life:8081/api/CPFContributionCalculator/NonPension\"\n",
    "    querystring = {\"date_of_birth\": str(date_of_birth.month).zfill(2) + \"-\" + \n",
    "                                       str(date_of_birth.day).zfill(2) + \"-\" + \n",
    "                                       str(datetime.datetime.today().year - age),\n",
    "                   \"ordinary_wage\": monthly_salary,\n",
    "                   \"additional_wage\": annual_bonus,\n",
    "                   \"non_pensionable_element\": \"0\"}\n",
    "    response = requests.request(\"GET\", url, params=querystring)\n",
    "    response = json.loads(response.text)\n",
    "    return response[0]['TotalCPFContribution'] * 12"
   ]
  },
  {
   "cell_type": "code",
   "execution_count": 9,
   "metadata": {},
   "outputs": [
    {
     "data": {
      "text/plain": [
       "32190.0"
      ]
     },
     "execution_count": 9,
     "metadata": {},
     "output_type": "execute_result"
    }
   ],
   "source": [
    "cpf_contribution = get_annual_CPF_contribution(date_of_birth, monthly_salary, annual_bonus)\n",
    "cpf_contribution"
   ]
  },
  {
   "cell_type": "markdown",
   "metadata": {},
   "source": [
    "# Determine CPF Allocation"
   ]
  },
  {
   "cell_type": "code",
   "execution_count": 10,
   "metadata": {},
   "outputs": [],
   "source": [
    "def get_annual_CPF_allocation(cpf_contribution, date_of_birth, age=get_current_age(date_of_birth)):\n",
    "    # cpf_contribution: number\n",
    "    # date_of_birth: datetime.datetime object\n",
    "    # age (optional): numberm, default current age\n",
    "    # Returns allocation by account (OA, MA, SA): tuple\n",
    "    \n",
    "    # Invoke Non-Pension CPF Allocation Calculator\n",
    "    url = \"http://dev.bambu.life:8081/api/CPFAllocationCalculator/NonPension\"\n",
    "    querystring = {\"date_of_birth\": str(date_of_birth.month).zfill(2) + \"-\" + \n",
    "                                       str(date_of_birth.day).zfill(2) + \"-\" + \n",
    "                                       str(datetime.datetime.today().year - age),\n",
    "                   \"cpf_contribution\": cpf_contribution}\n",
    "    response = requests.request(\"GET\", url, params=querystring)\n",
    "    # Calculate amount eligible to be transferred to retirement account\n",
    "    response = json.loads(response.text)\n",
    "    oa_ma_sa_tuple = (response[0]['OrdinaryAccount'], response[0]['Medisave'], response[0]['SpecialAccount'])\n",
    "    \n",
    "    return oa_ma_sa_tuple"
   ]
  },
  {
   "cell_type": "code",
   "execution_count": 11,
   "metadata": {},
   "outputs": [
    {
     "data": {
      "text/plain": [
       "(20012.523, 6959.478, 5217.999)"
      ]
     },
     "execution_count": 11,
     "metadata": {},
     "output_type": "execute_result"
    }
   ],
   "source": [
    "# Calculate amount eligible to be transferred to retirement account\n",
    "oa_ma_sa_tuple = get_annual_CPF_allocation(cpf_contribution, date_of_birth)\n",
    "oa_ma_sa_tuple"
   ]
  },
  {
   "cell_type": "markdown",
   "metadata": {},
   "source": [
    "# Calculate Predicted Retirement Account Balance"
   ]
  },
  {
   "cell_type": "code",
   "execution_count": 12,
   "metadata": {},
   "outputs": [],
   "source": [
    "def calculate_cpf_account_balances(date_of_birth,\n",
    "                                   monthly_salary,\n",
    "                                   annual_bonus=0,\n",
    "                                   age_amount_to_deduct=None,\n",
    "                                   current_balances=(cpf_current_account_balance,\n",
    "                                                     cpf_medisave_account_balance,\n",
    "                                                     cpf_special_account_balance),\n",
    "                                   goal_age=55):\n",
    "    # date_of_birth: datetime.datetime object\n",
    "    # monthly_salary: number\n",
    "    # annual_bonus (optional): number, default: 0\n",
    "    # age_amount_to_deduct (optional): dictionary of age and amounts to deduct in OA, default: None (null)\n",
    "    # goal_age: number, age to retire, default: 55\n",
    "    # Returns cpf allocation by age (int) by account [(OA, MA, SA) - tuple]: dictionary\n",
    "    \n",
    "    age = get_current_age(date_of_birth)\n",
    "    cpf_contribution = get_annual_CPF_contribution(date_of_birth, monthly_salary, annual_bonus)\n",
    "    oa_ma_sa_tuple = get_annual_CPF_allocation(cpf_contribution, date_of_birth)\n",
    "    \n",
    "    predicted_cpf_balances_dict = {0: (0, 0, 0),\n",
    "                                  age-1: (0, 0, 0),\n",
    "                                  age: current_balances}\n",
    "    \n",
    "    for i in range(age+1, goal_age+1):\n",
    "        \n",
    "        if i in [56, 61, 66]:\n",
    "            # Recalculate CPF contribution\n",
    "            cpf_contribution = get_annual_CPF_contribution(date_of_birth, monthly_salary, annual_bonus, age=i)\n",
    "\n",
    "        if i in [36, 46, 51, 56, 61, 66]:\n",
    "            # Recalculate CPF allocation\n",
    "            oa_ma_sa_tuple = get_annual_CPF_allocation(cpf_contribution, date_of_birth, age=i)\n",
    "        \n",
    "        amount_to_deduct = 0\n",
    "        \n",
    "        if age_amount_to_deduct != None:\n",
    "            amount_to_deduct = age_amount_to_deduct[i]\n",
    "        \n",
    "        previous_oa_ma_sa_tuple = predicted_cpf_balances_dict[i - 1]\n",
    "        predicted_cpf_balances_dict[i] = (previous_oa_ma_sa_tuple[0] + oa_ma_sa_tuple[0] - amount_to_deduct,\n",
    "                                          previous_oa_ma_sa_tuple[1] + oa_ma_sa_tuple[1],\n",
    "                                          previous_oa_ma_sa_tuple[2] + oa_ma_sa_tuple[2])\n",
    "        # print(predicted_cpf_balances_dict[i])\n",
    "    \n",
    "    return predicted_cpf_balances_dict\n",
    "\n",
    "def calculate_ra_account_balances(date_of_birth,\n",
    "                                  monthly_salary,\n",
    "                                  annual_bonus=0,\n",
    "                                  age_amount_to_deduct=None,\n",
    "                                  current_balances=(cpf_current_account_balance,\n",
    "                                                    cpf_medisave_account_balance,\n",
    "                                                    cpf_special_account_balance),\n",
    "                                  goal_age=55):\n",
    "    # date_of_birth: datetime.datetime object\n",
    "    # monthly_salary: number\n",
    "    # annual_bonus (optional): number, default: 0\n",
    "    # age_amount_to_deduct (optional): dictionary of age and amounts to deduct in OA, default None (null)\n",
    "    # goal_age: number, age to retire, default: 55\n",
    "    # Returns predicted RA account balance (number) by age (int): dictionary\n",
    "    \n",
    "    predicted_ra_balances_dict = calculate_cpf_account_balances(date_of_birth,\n",
    "                                                                monthly_salary,\n",
    "                                                                annual_bonus=annual_bonus,\n",
    "                                                                age_amount_to_deduct=age_amount_to_deduct,\n",
    "                                                                current_balances=current_balances,\n",
    "                                                                goal_age=goal_age)\n",
    "    \n",
    "    for i in predicted_ra_balances_dict.keys():\n",
    "        predicted_ra_balances_dict[i] = (predicted_ra_balances_dict[i][0] + \n",
    "                                         predicted_ra_balances_dict[i][2])\n",
    "    \n",
    "    return predicted_ra_balances_dict"
   ]
  },
  {
   "cell_type": "code",
   "execution_count": 13,
   "metadata": {},
   "outputs": [
    {
     "data": {
      "text/plain": [
       "{0: 0,\n",
       " 22: 0,\n",
       " 23: 465.87,\n",
       " 24: 25696.392,\n",
       " 25: 50926.914000000004,\n",
       " 26: 76157.436,\n",
       " 27: 101387.958,\n",
       " 28: 126618.48000000001,\n",
       " 29: 151849.002,\n",
       " 30: 177079.524,\n",
       " 31: 202310.04599999997,\n",
       " 32: 227540.56799999997,\n",
       " 33: 252771.08999999997,\n",
       " 34: 278001.61199999996,\n",
       " 35: 303232.1339999999,\n",
       " 36: 327593.52599999995,\n",
       " 37: 351954.91799999995,\n",
       " 38: 376316.30999999994,\n",
       " 39: 400677.7019999999,\n",
       " 40: 425039.09399999987,\n",
       " 41: 449400.48599999986,\n",
       " 42: 473761.8779999998,\n",
       " 43: 498123.2699999998,\n",
       " 44: 522484.6619999998,\n",
       " 45: 546846.0539999998,\n",
       " 46: 570338.3159999998,\n",
       " 47: 593830.5779999997,\n",
       " 48: 617322.8399999997,\n",
       " 49: 640815.1019999997,\n",
       " 50: 664307.3639999997,\n",
       " 51: 687365.0609999996,\n",
       " 52: 710422.7579999997,\n",
       " 53: 733480.4549999997,\n",
       " 54: 756538.1519999998,\n",
       " 55: 779595.8489999998}"
      ]
     },
     "execution_count": 13,
     "metadata": {},
     "output_type": "execute_result"
    }
   ],
   "source": [
    "predicted_ra_balances_dict = calculate_ra_account_balances(date_of_birth, monthly_salary, annual_bonus, goal_age=goal_age)\n",
    "predicted_ra_balances_dict"
   ]
  },
  {
   "cell_type": "markdown",
   "metadata": {},
   "source": [
    "# Plot graph"
   ]
  },
  {
   "cell_type": "code",
   "execution_count": 14,
   "metadata": {},
   "outputs": [
    {
     "data": {
      "text/plain": [
       "<matplotlib.lines.Line2D at 0x23446f86da0>"
      ]
     },
     "execution_count": 14,
     "metadata": {},
     "output_type": "execute_result"
    },
    {
     "data": {
      "image/png": "[encoded data removed]",
      "text/plain": [
       "<Figure size 432x288 with 1 Axes>"
      ]
     },
     "metadata": {},
     "output_type": "display_data"
    }
   ],
   "source": [
    "sns.set_context(\"talk\")\n",
    "sns.set_style('darkgrid')\n",
    "\n",
    "plt.plot(predicted_ra_balances_dict.keys(), predicted_ra_balances_dict.values(), marker='.')\n",
    "plt.xlim(age, goal_age)\n",
    "plt.ylim(0)\n",
    "plt.annotate(s=int(predicted_ra_balances_dict[goal_age]), xy=(goal_age, predicted_ra_balances_dict[goal_age]))\n",
    "plt.xlabel('Age (years)')\n",
    "plt.ylabel('Predicted RA Amount')\n",
    "plt.axhline(y = min_cpf_sum, color='gray', ls=':')"
   ]
  },
  {
   "cell_type": "code",
   "execution_count": 15,
   "metadata": {},
   "outputs": [
    {
     "name": "stdout",
     "output_type": "stream",
     "text": [
      "You can achieve the minimum sum of 181000\n"
     ]
    }
   ],
   "source": [
    "min_sum = retrieveMinSum(date_turning_55)\n",
    "if list(predicted_ra_balances_dict.values())[-1] - min_sum >= 0:\n",
    "    print(\"You can achieve the minimum sum of \" + str(min_sum))\n",
    "else:\n",
    "    print(\"You cannot achieve the minimum sum of \" + str(min_sum))"
   ]
  },
  {
   "cell_type": "code",
   "execution_count": 16,
   "metadata": {},
   "outputs": [],
   "source": [
    "def calculate_mortgage(house_amount, months_to_go, downpayment_pct):\n",
    "    url = \"http://microservice.dev.bambu.life/api/generalCalculator/mortgageCalculators\"\n",
    "    payload = {\"houseAmount\":str(house_amount),\n",
    "               \"downpaymentPct\":str(downpayment_pct),\n",
    "               \"monthsToGo\":str(months_to_go)}\n",
    "    \n",
    "    response = requests.request(\"POST\", url, data=payload)\n",
    "    response = json.loads(response.text)\n",
    "    return response['response']\n",
    "\n",
    "def calculate_mortgage_downpayment(house_amount, months_to_go, downpayment_pct=0.1):\n",
    "    response = calculate_mortgage(house_amount=house_amount, months_to_go=months_to_go, downpayment_pct=downpayment_pct)\n",
    "    return response['downpayment']\n",
    "\n",
    "def calculate_mortgage_min_monthly_payment(house_amount, months_to_go, downpayment_pct=0.1):\n",
    "    response = calculate_mortgage(house_amount=house_amount, months_to_go=months_to_go, downpayment_pct=downpayment_pct)\n",
    "    return response['minMonthlyPayment']"
   ]
  },
  {
   "cell_type": "code",
   "execution_count": 17,
   "metadata": {},
   "outputs": [
    {
     "name": "stdout",
     "output_type": "stream",
     "text": [
      "50000\n",
      "1807.8005559058054\n"
     ]
    }
   ],
   "source": [
    "downpayment = calculate_mortgage_downpayment(houseAmount, monthsToGo)\n",
    "minMonthlyPayment = calculate_mortgage_min_monthly_payment(houseAmount, monthsToGo)\n",
    "\n",
    "print(downpayment)\n",
    "print(minMonthlyPayment)"
   ]
  },
  {
   "cell_type": "code",
   "execution_count": 18,
   "metadata": {},
   "outputs": [],
   "source": [
    "def calculate_mortgage_cpf_payments(house_amount, months_to_go, age_to_buy, downpayment_pct=0.1):\n",
    "    downpayment = calculate_mortgage_downpayment(house_amount, months_to_go)\n",
    "    minMonthlyPayment = calculate_mortgage_min_monthly_payment(house_amount, months_to_go)\n",
    "\n",
    "    capCPF = 1.2 * houseAmount\n",
    "    totalAmount = downpayment + minMonthlyPayment * monthsToGo\n",
    "\n",
    "    from collections import defaultdict\n",
    "    payment = defaultdict(int)\n",
    "\n",
    "    payment[ageToBuy] = downpayment * 0.75\n",
    "    \n",
    "    for i in range(0, yearsToGo - 1):\n",
    "        for j in range(1, 12):\n",
    "            amount = payment[i + ageToBuy]\n",
    "            payment[i + ageToBuy] = amount + minMonthlyPayment \n",
    "            capCPF = capCPF - minMonthlyPayment\n",
    "\n",
    "            if capCPF < 0:\n",
    "                break\n",
    "        # print (capCPF)\n",
    "        if capCPF < 0:\n",
    "            break\n",
    "    \n",
    "    return payment"
   ]
  },
  {
   "cell_type": "code",
   "execution_count": 19,
   "metadata": {},
   "outputs": [
    {
     "data": {
      "text/plain": [
       "defaultdict(int,\n",
       "            {30: 57385.80611496388,\n",
       "             31: 19885.806114963856,\n",
       "             32: 19885.806114963856,\n",
       "             33: 19885.806114963856,\n",
       "             34: 19885.806114963856,\n",
       "             35: 19885.806114963856,\n",
       "             36: 19885.806114963856,\n",
       "             37: 19885.806114963856,\n",
       "             38: 19885.806114963856,\n",
       "             39: 19885.806114963856,\n",
       "             40: 19885.806114963856,\n",
       "             41: 19885.806114963856,\n",
       "             42: 19885.806114963856,\n",
       "             43: 19885.806114963856,\n",
       "             44: 19885.806114963856,\n",
       "             45: 19885.806114963856,\n",
       "             46: 19885.806114963856,\n",
       "             47: 19885.806114963856,\n",
       "             48: 19885.806114963856,\n",
       "             49: 19885.806114963856,\n",
       "             50: 19885.806114963856,\n",
       "             51: 19885.806114963856,\n",
       "             52: 19885.806114963856,\n",
       "             53: 19885.806114963856,\n",
       "             54: 19885.806114963856,\n",
       "             55: 19885.806114963856,\n",
       "             56: 19885.806114963856,\n",
       "             57: 19885.806114963856,\n",
       "             58: 19885.806114963856})"
      ]
     },
     "execution_count": 19,
     "metadata": {},
     "output_type": "execute_result"
    }
   ],
   "source": [
    "mortgage_payments_dict = calculate_mortgage_cpf_payments(houseAmount, monthsToGo, ageToBuy)\n",
    "mortgage_payments_dict"
   ]
  },
  {
   "cell_type": "code",
   "execution_count": 20,
   "metadata": {},
   "outputs": [
    {
     "data": {
      "text/plain": [
       "{0: 0,\n",
       " 22: 0,\n",
       " 23: 465.87,\n",
       " 24: 25696.392,\n",
       " 25: 50926.914000000004,\n",
       " 26: 76157.436,\n",
       " 27: 101387.958,\n",
       " 28: 126618.48000000001,\n",
       " 29: 151849.002,\n",
       " 30: 119693.71788503612,\n",
       " 31: 125038.43377007227,\n",
       " 32: 130383.14965510841,\n",
       " 33: 135727.86554014456,\n",
       " 34: 141072.58142518072,\n",
       " 35: 146417.29731021685,\n",
       " 36: 150892.88319525297,\n",
       " 37: 155368.46908028913,\n",
       " 38: 159844.05496532528,\n",
       " 39: 164319.6408503614,\n",
       " 40: 168795.22673539753,\n",
       " 41: 173270.8126204337,\n",
       " 42: 177746.39850546984,\n",
       " 43: 182221.98439050597,\n",
       " 44: 186697.5702755421,\n",
       " 45: 191173.15616057825,\n",
       " 46: 194779.6120456144,\n",
       " 47: 198386.06793065055,\n",
       " 48: 201992.5238156867,\n",
       " 49: 205598.97970072285,\n",
       " 50: 209205.435585759,\n",
       " 51: 212377.32647079515,\n",
       " 52: 215549.2173558313,\n",
       " 53: 218721.1082408674,\n",
       " 54: 221892.99912590356,\n",
       " 55: 225064.8900109397}"
      ]
     },
     "execution_count": 20,
     "metadata": {},
     "output_type": "execute_result"
    }
   ],
   "source": [
    "predicted_ra_balances_dict = calculate_ra_account_balances(date_of_birth, monthly_salary, annual_bonus, mortgage_payments_dict)\n",
    "predicted_ra_balances_dict"
   ]
  },
  {
   "cell_type": "code",
   "execution_count": 21,
   "metadata": {},
   "outputs": [
    {
     "data": {
      "text/plain": [
       "defaultdict(int,\n",
       "            {30: 57385.80611496388,\n",
       "             31: 19885.806114963856,\n",
       "             32: 19885.806114963856,\n",
       "             33: 19885.806114963856,\n",
       "             34: 19885.806114963856,\n",
       "             35: 19885.806114963856,\n",
       "             36: 19885.806114963856,\n",
       "             37: 19885.806114963856,\n",
       "             38: 19885.806114963856,\n",
       "             39: 19885.806114963856,\n",
       "             40: 19885.806114963856,\n",
       "             41: 19885.806114963856,\n",
       "             42: 19885.806114963856,\n",
       "             43: 19885.806114963856,\n",
       "             44: 19885.806114963856,\n",
       "             45: 19885.806114963856,\n",
       "             46: 19885.806114963856,\n",
       "             47: 19885.806114963856,\n",
       "             48: 19885.806114963856,\n",
       "             49: 19885.806114963856,\n",
       "             50: 19885.806114963856,\n",
       "             51: 19885.806114963856,\n",
       "             52: 19885.806114963856,\n",
       "             53: 19885.806114963856,\n",
       "             54: 19885.806114963856,\n",
       "             55: 19885.806114963856,\n",
       "             56: 19885.806114963856,\n",
       "             57: 19885.806114963856,\n",
       "             58: 19885.806114963856})"
      ]
     },
     "execution_count": 21,
     "metadata": {},
     "output_type": "execute_result"
    }
   ],
   "source": [
    "mortgage_payments_dict = calculate_mortgage_cpf_payments(houseAmount, monthsToGo, ageToBuy)\n",
    "mortgage_payments_dict"
   ]
  },
  {
   "cell_type": "code",
   "execution_count": 22,
   "metadata": {},
   "outputs": [
    {
     "data": {
      "text/plain": [
       "<matplotlib.lines.Line2D at 0x23447fbccf8>"
      ]
     },
     "execution_count": 22,
     "metadata": {},
     "output_type": "execute_result"
    },
    {
     "data": {
      "image/png": "[encoded data removed]",
      "text/plain": [
       "<Figure size 432x288 with 1 Axes>"
      ]
     },
     "metadata": {},
     "output_type": "display_data"
    }
   ],
   "source": [
    "sns.set_context(\"talk\")\n",
    "sns.set_style('darkgrid')\n",
    "\n",
    "plt.plot(predicted_ra_balances_dict.keys(), predicted_ra_balances_dict.values(), marker='.')\n",
    "plt.xlim(age, 55)\n",
    "plt.ylim(0)\n",
    "plt.annotate(s=int(predicted_ra_balances_dict[goal_age]), xy=(goal_age, predicted_ra_balances_dict[goal_age]))\n",
    "plt.xlabel('Age (years)')\n",
    "plt.ylabel('Predicted RA Amount')\n",
    "plt.fill_between(predicted_ra_balances_dict.keys(), predicted_ra_balances_dict.values(), alpha=0.5)\n",
    "plt.axhline(y = min_cpf_sum, color='gray', ls=':')"
   ]
  },
  {
   "cell_type": "code",
   "execution_count": 23,
   "metadata": {},
   "outputs": [
    {
     "data": {
      "text/plain": [
       "[21178.90956323971, 10000, 15674]"
      ]
     },
     "execution_count": 23,
     "metadata": {},
     "output_type": "execute_result"
    }
   ],
   "source": [
    "labels = ['Housing', 'Insurance', 'CPF investments']\n",
    "values = [sum(mortgage_payments_dict.values()) / len(mortgage_payments_dict.values()), 10000, cpf_investments]\n",
    "values"
   ]
  },
  {
   "cell_type": "code",
   "execution_count": 24,
   "metadata": {},
   "outputs": [
    {
     "data": {
      "text/plain": [
       "(-2.245961029183002,\n",
       " 2.202188620437286,\n",
       " -2.2045202783005715,\n",
       " 2.2516920661938147)"
      ]
     },
     "execution_count": 24,
     "metadata": {},
     "output_type": "execute_result"
    },
    {
     "data": {
      "image/png": "[encoded data removed]",
      "text/plain": [
       "<Figure size 432x288 with 1 Axes>"
      ]
     },
     "metadata": {},
     "output_type": "display_data"
    }
   ],
   "source": [
    "plt.pie(values, labels=labels, radius=2, wedgeprops=dict(width=1, edgecolor='w'))\n",
    "plt.title(\"Average annual payments with CPF: $\" + str(int(sum(values)/len(values))))\n",
    "plt.axis(\"equal\")"
   ]
  },
  {
   "cell_type": "code",
   "execution_count": 25,
   "metadata": {},
   "outputs": [],
   "source": [
    "def get_current_monthly_expense_prediction(monthly_salary):\n",
    "    url = \"http://dev.bambu.life:8081/api/TotalExpenseEstimator\"\n",
    "    querystring = {\"monthly_income\":str(monthly_salary)}\n",
    "    \n",
    "    response = requests.request(\"GET\", url, params=querystring)\n",
    "\n",
    "    return float(response.text)"
   ]
  },
  {
   "cell_type": "code",
   "execution_count": 32,
   "metadata": {},
   "outputs": [
    {
     "data": {
      "text/plain": [
       "2302.0"
      ]
     },
     "execution_count": 32,
     "metadata": {},
     "output_type": "execute_result"
    }
   ],
   "source": [
    "current_monthly_expense_prediction = get_current_monthly_expense_prediction(monthly_salary)\n",
    "current_monthly_expense_prediction"
   ]
  },
  {
   "cell_type": "code",
   "execution_count": 35,
   "metadata": {},
   "outputs": [],
   "source": [
    "def get_future_monthly_expense(monthly_expense_prediction, age, inflation_rate, retirement_goal_age):\n",
    "    url = \"http://dev.bambu.life:8081/api/MonthlyRetirementIncomeCalculator\"\n",
    "    querystring = {\"monthly_expense\": str(monthly_expense_prediction),\n",
    "                   \"age\": str(age),\n",
    "                   \"inflation_rate\": str(inflation_rate),\n",
    "                   \"retirement_age\":str(retirement_goal_age)}\n",
    "\n",
    "    response = requests.request(\"GET\", url, params=querystring)\n",
    "\n",
    "    return float(response.text)"
   ]
  },
  {
   "cell_type": "code",
   "execution_count": 36,
   "metadata": {},
   "outputs": [
    {
     "data": {
      "text/plain": [
       "3165.1134419785863"
      ]
     },
     "execution_count": 36,
     "metadata": {},
     "output_type": "execute_result"
    }
   ],
   "source": [
    "monthly_expense_prediction = get_future_monthly_expense(current_monthly_expense_prediction, age, inflation_rate, goal_age)\n",
    "monthly_expense_prediction"
   ]
  },
  {
   "cell_type": "code",
   "execution_count": null,
   "metadata": {},
   "outputs": [],
   "source": []
  }
 ],
 "metadata": {
  "kernelspec": {
   "display_name": "Python 3",
   "language": "python",
   "name": "python3"
  },
  "language_info": {
   "codemirror_mode": {
    "name": "ipython",
    "version": 3
   },
   "file_extension": ".py",
   "mimetype": "text/x-python",
   "name": "python",
   "nbconvert_exporter": "python",
   "pygments_lexer": "ipython3",
   "version": "3.6.4"
  }
 },
 "nbformat": 4,
 "nbformat_minor": 2
}
