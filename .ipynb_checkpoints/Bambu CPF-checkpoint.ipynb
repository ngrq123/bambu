{
 "cells": [
  {
   "cell_type": "code",
   "execution_count": 1,
   "metadata": {},
   "outputs": [],
   "source": [
    "import requests\n",
    "import json\n",
    "import datetime\n",
    "import numpy as np\n",
    "import matplotlib.pyplot as plt\n",
    "import seaborn as sns\n",
    "%matplotlib inline\n",
    "\n",
    "# User inputs\n",
    "cpf_current_account_balance = 0\n",
    "cpf_medisave_account_balance = 0\n",
    "cpf_special_account_balance = 0\n",
    "\n",
    "date_of_birth = datetime.datetime(2000, 2, 19)\n",
    "monthly_salary = 10000\n",
    "annual_bonus = 15000\n",
    "\n",
    "ageToBuy = 30\n",
    "houseAmount = 500000.00\n",
    "downpaymentPct = 0.1\n",
    "yearsToGo = 30\n",
    "monthsToGo = yearsToGo*12"
   ]
  },
  {
   "cell_type": "markdown",
   "metadata": {},
   "source": [
    "# Find out CPF Min Sum"
   ]
  },
  {
   "cell_type": "code",
   "execution_count": 2,
   "metadata": {},
   "outputs": [
    {
     "data": {
      "text/plain": [
       "datetime.datetime(2055, 2, 19, 0, 0)"
      ]
     },
     "execution_count": 2,
     "metadata": {},
     "output_type": "execute_result"
    }
   ],
   "source": [
    "date_turning_55 = datetime.datetime(date_of_birth.year + 55, date_of_birth.month, date_of_birth.day)\n",
    "date_turning_55"
   ]
  },
  {
   "cell_type": "code",
   "execution_count": 3,
   "metadata": {},
   "outputs": [],
   "source": [
    "def retrieveMinSum(date_turning_55):\n",
    "    # date_turning_55: datetime.datetime object\n",
    "    # Returns minimum CPF sum: int\n",
    "    \n",
    "    # 55th birthday on or after 1 July for 2003 to 2015, and\n",
    "    # 1 January from 2017 onwards (no date for 2016)\n",
    "    retirement_sums_dict = {2002: 0,\n",
    "                            2003: 80000,\n",
    "                            2004: 84500,\n",
    "                            2005: 90000,\n",
    "                            2006: 94600,\n",
    "                            2007: 99600,\n",
    "                            2008: 106000,\n",
    "                            2009: 117000,\n",
    "                            2010: 123000,\n",
    "                            2011: 131000,\n",
    "                            2012: 139000,\n",
    "                            2013: 148000,\n",
    "                            2014: 155000,\n",
    "                            2015: 161000,\n",
    "                            2016: 161000,\n",
    "                            2017: 166000,\n",
    "                            2018: 171000,\n",
    "                            2019: 176000,\n",
    "                            2020: 181000}\n",
    "    \n",
    "    min_cpf_sum = min_cpf_sum = retirement_sums_dict[2020]\n",
    "    if date_turning_55.year < 2003:\n",
    "        # Before 2003\n",
    "        min_cpf_sum = 0\n",
    "    elif date_turning_55.year < 2017:\n",
    "        # Between 2003 to 2017\n",
    "        # Check if before or after July\n",
    "        if date_turning_55.month < 7:\n",
    "            # Added 2002 in dictionary for corner case where 55th birthday is on 2003 but before July\n",
    "            min_cpf_sum = retirement_sums_dict[date_turning_55.year - 1]\n",
    "        else:\n",
    "            min_cpf_sum = retirement_sums_dict[date_turning_55.year]\n",
    "    elif date_turning_55.year < 2020:\n",
    "            min_cpf_sum = retirement_sums_dict[date_turning_55.year]\n",
    "            \n",
    "    return min_cpf_sum"
   ]
  },
  {
   "cell_type": "code",
   "execution_count": 4,
   "metadata": {},
   "outputs": [],
   "source": [
    "min_cpf_sum = retrieveMinSum(date_turning_55)"
   ]
  },
  {
   "cell_type": "markdown",
   "metadata": {},
   "source": [
    "# (To Generate Chart for Slides)"
   ]
  },
  {
   "cell_type": "code",
   "execution_count": 5,
   "metadata": {},
   "outputs": [
    {
     "data": {
      "text/plain": [
       "[<matplotlib.lines.Line2D at 0x1ed3aace898>]"
      ]
     },
     "execution_count": 5,
     "metadata": {},
     "output_type": "execute_result"
    },
    {
     "data": {
      "image/png": "[encoded data removed]",
      "text/plain": [
       "<Figure size 432x288 with 1 Axes>"
      ]
     },
     "metadata": {},
     "output_type": "display_data"
    }
   ],
   "source": [
    "retirement_sums_dict = {2002: 0,\n",
    "                            2003: 80000,\n",
    "                            2004: 84500,\n",
    "                            2005: 90000,\n",
    "                            2006: 94600,\n",
    "                            2007: 99600,\n",
    "                            2008: 106000,\n",
    "                            2009: 117000,\n",
    "                            2010: 123000,\n",
    "                            2011: 131000,\n",
    "                            2012: 139000,\n",
    "                            2013: 148000,\n",
    "                            2014: 155000,\n",
    "                            2015: 161000,\n",
    "                            2016: 161000,\n",
    "                            2017: 166000,\n",
    "                            2018: 171000,\n",
    "                            2019: 176000,\n",
    "                            2020: 181000}\n",
    "\n",
    "years_list = list(retirement_sums_dict.keys())\n",
    "retirement_sums_list = list(retirement_sums_dict.values())\n",
    "\n",
    "sns.set_context(\"talk\")\n",
    "sns.set_style('darkgrid')\n",
    "\n",
    "plt.xticks(np.arange(2004, 2021, step=2))\n",
    "plt.xlim(2003, 2020)\n",
    "plt.ylim(0, 200000)\n",
    "\n",
    "plt.plot(years_list[1:], retirement_sums_list[1:], marker='.')"
   ]
  },
  {
   "cell_type": "markdown",
   "metadata": {},
   "source": [
    "# Get Current Age"
   ]
  },
  {
   "cell_type": "code",
   "execution_count": 6,
   "metadata": {},
   "outputs": [],
   "source": [
    "def get_current_age(date_of_birth):\n",
    "    # date_of_birth: datetime.datetime object\n",
    "    # Returns age: int\n",
    "    return datetime.datetime.today().year - date_of_birth.year"
   ]
  },
  {
   "cell_type": "code",
   "execution_count": 7,
   "metadata": {},
   "outputs": [
    {
     "data": {
      "text/plain": [
       "18"
      ]
     },
     "execution_count": 7,
     "metadata": {},
     "output_type": "execute_result"
    }
   ],
   "source": [
    "age = get_current_age(date_of_birth)\n",
    "age"
   ]
  },
  {
   "cell_type": "markdown",
   "metadata": {},
   "source": [
    "# Determine CPF Contribution"
   ]
  },
  {
   "cell_type": "code",
   "execution_count": 8,
   "metadata": {},
   "outputs": [],
   "source": [
    "def get_annual_CPF_contribution(date_of_birth, monthly_salary, annual_bonus=0, age=get_current_age(date_of_birth)):\n",
    "    # date_of_birth: datetime.datetime object\n",
    "    # monthly_salary: number\n",
    "    # annual_bonus (optional): number, default 0\n",
    "    # age (optional): numberm, default current age\n",
    "    # Returns CPF contribution: number\n",
    "    \n",
    "    # Invoke Non-Pension CPF Contribution Calculator\n",
    "    url = \"http://dev.bambu.life:8081/api/CPFContributionCalculator/NonPension\"\n",
    "    querystring = {\"date_of_birth\": str(date_of_birth.month).zfill(2) + \"-\" + \n",
    "                                       str(date_of_birth.day).zfill(2) + \"-\" + \n",
    "                                       str(datetime.datetime.today().year - age),\n",
    "                   \"ordinary_wage\": monthly_salary,\n",
    "                   \"additional_wage\": annual_bonus,\n",
    "                   \"non_pensionable_element\": \"0\"}\n",
    "    response = requests.request(\"GET\", url, params=querystring)\n",
    "    response = json.loads(response.text)\n",
    "    return response[0]['TotalCPFContribution'] * 12"
   ]
  },
  {
   "cell_type": "code",
   "execution_count": 9,
   "metadata": {},
   "outputs": [
    {
     "data": {
      "text/plain": [
       "32190.0"
      ]
     },
     "execution_count": 9,
     "metadata": {},
     "output_type": "execute_result"
    }
   ],
   "source": [
    "cpf_contribution = get_annual_CPF_contribution(date_of_birth, monthly_salary, annual_bonus)\n",
    "cpf_contribution"
   ]
  },
  {
   "cell_type": "markdown",
   "metadata": {},
   "source": [
    "# Determine CPF Allocation"
   ]
  },
  {
   "cell_type": "code",
   "execution_count": 10,
   "metadata": {},
   "outputs": [],
   "source": [
    "def get_annual_CPF_allocation(cpf_contribution, date_of_birth, age=get_current_age(date_of_birth)):\n",
    "    # cpf_contribution: number\n",
    "    # date_of_birth: datetime.datetime object\n",
    "    # age (optional): numberm, default current age\n",
    "    # Returns allocation by account (OA, MA, SA): tuple\n",
    "    \n",
    "    # Invoke Non-Pension CPF Allocation Calculator\n",
    "    url = \"http://dev.bambu.life:8081/api/CPFAllocationCalculator/NonPension\"\n",
    "    querystring = {\"date_of_birth\": str(date_of_birth.month).zfill(2) + \"-\" + \n",
    "                                       str(date_of_birth.day).zfill(2) + \"-\" + \n",
    "                                       str(datetime.datetime.today().year - age),\n",
    "                   \"cpf_contribution\": cpf_contribution}\n",
    "    response = requests.request(\"GET\", url, params=querystring)\n",
    "    # Calculate amount eligible to be transferred to retirement account\n",
    "    response = json.loads(response.text)\n",
    "    oa_ma_sa_tuple = (response[0]['OrdinaryAccount'], response[0]['Medisave'], response[0]['SpecialAccount'])\n",
    "    \n",
    "    return oa_ma_sa_tuple"
   ]
  },
  {
   "cell_type": "code",
   "execution_count": 11,
   "metadata": {},
   "outputs": [
    {
     "data": {
      "text/plain": [
       "(20012.523, 6959.478, 5217.999)"
      ]
     },
     "execution_count": 11,
     "metadata": {},
     "output_type": "execute_result"
    }
   ],
   "source": [
    "# Calculate amount eligible to be transferred to retirement account\n",
    "oa_ma_sa_tuple = get_annual_CPF_allocation(cpf_contribution, date_of_birth)\n",
    "oa_ma_sa_tuple"
   ]
  },
  {
   "cell_type": "markdown",
   "metadata": {},
   "source": [
    "# Calculate Predicted Retirement Account Balance"
   ]
  },
  {
   "cell_type": "code",
   "execution_count": 12,
   "metadata": {},
   "outputs": [],
   "source": [
    "def calculate_cpf_account_balances(date_of_birth,\n",
    "                                   monthly_salary,\n",
    "                                   annual_bonus=0,\n",
    "                                   age_amount_to_deduct=None,\n",
    "                                   current_balances=(cpf_current_account_balance,\n",
    "                                                     cpf_medisave_account_balance,\n",
    "                                                     cpf_special_account_balance),\n",
    "                                   goal_age=55):\n",
    "    # date_of_birth: datetime.datetime object\n",
    "    # monthly_salary: number\n",
    "    # annual_bonus (optional): number, default: 0\n",
    "    # age_amount_to_deduct (optional): dictionary of age and amounts to deduct in OA, default: None (null)\n",
    "    # goal_age: number, age to retire, default: 55\n",
    "    # Returns cpf allocation by age (int) by account [(OA, MA, SA) - tuple]: dictionary\n",
    "    \n",
    "    age = get_current_age(date_of_birth)\n",
    "    cpf_contribution = get_annual_CPF_contribution(date_of_birth, monthly_salary, annual_bonus)\n",
    "    oa_ma_sa_tuple = get_annual_CPF_allocation(cpf_contribution, date_of_birth)\n",
    "    \n",
    "    predicted_cpf_balances_dict = {0: (0, 0, 0),\n",
    "                                  age-1: (0, 0, 0),\n",
    "                                  age: current_balances}\n",
    "    \n",
    "    for i in range(age+1, goal_age+1):\n",
    "        \n",
    "        if i in [56, 61, 66]:\n",
    "            # Recalculate CPF contribution\n",
    "            cpf_contribution = get_annual_CPF_contribution(date_of_birth, monthly_salary, annual_bonus, age=i)\n",
    "\n",
    "        if i in [36, 46, 51, 56, 61, 66]:\n",
    "            # Recalculate CPF allocation\n",
    "            oa_ma_sa_tuple = get_annual_CPF_allocation(cpf_contribution, date_of_birth, age=i)\n",
    "        \n",
    "        amount_to_deduct = 0\n",
    "        \n",
    "        if age_amount_to_deduct != None:\n",
    "            amount_to_deduct = age_amount_to_deduct[i]\n",
    "        \n",
    "        previous_oa_ma_sa_tuple = predicted_cpf_balances_dict[i - 1]\n",
    "        predicted_cpf_balances_dict[i] = (previous_oa_ma_sa_tuple[0] + oa_ma_sa_tuple[0] - amount_to_deduct,\n",
    "                                          previous_oa_ma_sa_tuple[1] + oa_ma_sa_tuple[1],\n",
    "                                          previous_oa_ma_sa_tuple[2] + oa_ma_sa_tuple[2])\n",
    "        print(predicted_cpf_balances_dict[i])\n",
    "    \n",
    "    return predicted_cpf_balances_dict\n",
    "\n",
    "def calculate_ra_account_balances(date_of_birth,\n",
    "                                  monthly_salary,\n",
    "                                  annual_bonus=0,\n",
    "                                  age_amount_to_deduct=None,\n",
    "                                  current_balances=(cpf_current_account_balance,\n",
    "                                                    cpf_medisave_account_balance,\n",
    "                                                    cpf_special_account_balance),\n",
    "                                  goal_age=55):\n",
    "    # date_of_birth: datetime.datetime object\n",
    "    # monthly_salary: number\n",
    "    # annual_bonus (optional): number, default: 0\n",
    "    # age_amount_to_deduct (optional): dictionary of age and amounts to deduct in OA, default None (null)\n",
    "    # goal_age: number, age to retire, default: 55\n",
    "    # Returns predicted RA account balance (number) by age (int): dictionary\n",
    "    \n",
    "    predicted_ra_balances_dict = calculate_cpf_account_balances(date_of_birth,\n",
    "                                                                monthly_salary,\n",
    "                                                                annual_bonus=annual_bonus,\n",
    "                                                                age_amount_to_deduct=age_amount_to_deduct,\n",
    "                                                                current_balances=current_balances,\n",
    "                                                                goal_age=goal_age)\n",
    "    \n",
    "    for i in predicted_ra_balances_dict.keys():\n",
    "        predicted_ra_balances_dict[i] = (predicted_ra_balances_dict[i][0] + \n",
    "                                         predicted_ra_balances_dict[i][2])\n",
    "    \n",
    "    return predicted_ra_balances_dict"
   ]
  },
  {
   "cell_type": "code",
   "execution_count": 13,
   "metadata": {},
   "outputs": [
    {
     "name": "stdout",
     "output_type": "stream",
     "text": [
      "(20012.523, 6959.478, 5217.999)\n",
      "(40025.046, 13918.956, 10435.998)\n",
      "(60037.569, 20878.434, 15653.997)\n",
      "(80050.092, 27837.912, 20871.996)\n",
      "(100062.615, 34797.39, 26089.995)\n",
      "(120075.138, 41756.868, 31307.994)\n",
      "(140087.66100000002, 48716.346000000005, 36525.993)\n",
      "(160100.184, 55675.82400000001, 41743.992)\n",
      "(180112.707, 62635.30200000001, 46961.990999999995)\n",
      "(200125.22999999998, 69594.78000000001, 52179.98999999999)\n",
      "(220137.75299999997, 76554.25800000002, 57397.98899999999)\n",
      "(240150.27599999995, 83513.73600000002, 62615.98799999998)\n",
      "(260162.79899999994, 90473.21400000002, 67833.98699999998)\n",
      "(280175.3219999999, 97432.69200000002, 73051.98599999998)\n",
      "(300187.8449999999, 104392.17000000003, 78269.98499999997)\n",
      "(320200.3679999999, 111351.64800000003, 83487.98399999997)\n",
      "(340212.8909999999, 118311.12600000003, 88705.98299999996)\n",
      "(358487.15399999986, 126139.73400000003, 94793.11199999996)\n",
      "(376761.41699999984, 133968.34200000003, 100880.24099999997)\n",
      "(395035.6799999998, 141796.95000000004, 106967.36999999997)\n",
      "(413309.9429999998, 149625.55800000005, 113054.49899999997)\n",
      "(431584.2059999998, 157454.16600000006, 119141.62799999997)\n",
      "(449858.46899999975, 165282.77400000006, 125228.75699999997)\n",
      "(468132.7319999997, 173111.38200000007, 131315.88599999997)\n",
      "(486406.9949999997, 180939.99000000008, 137403.01499999996)\n",
      "(504681.2579999997, 188768.5980000001, 143490.14399999994)\n",
      "(522955.52099999966, 196597.2060000001, 149577.27299999993)\n",
      "(539488.3049999997, 205294.9440000001, 156536.75099999993)\n",
      "(556021.0889999997, 213992.68200000012, 163496.22899999993)\n",
      "(572553.8729999997, 222690.42000000013, 170455.70699999994)\n",
      "(589086.6569999997, 231388.15800000014, 177415.18499999994)\n",
      "(605619.4409999996, 240085.89600000015, 184374.66299999994)\n",
      "(618672.4859999997, 249218.19900000014, 194379.31499999994)\n",
      "(631725.5309999997, 258350.50200000015, 204383.96699999995)\n",
      "(644778.5759999998, 267482.80500000017, 214388.61899999995)\n",
      "(657831.6209999998, 276615.1080000002, 224393.27099999995)\n",
      "(670884.6659999999, 285747.4110000002, 234397.92299999995)\n"
     ]
    },
    {
     "data": {
      "text/plain": [
       "{0: 0,\n",
       " 17: 0,\n",
       " 18: 0,\n",
       " 19: 25230.522,\n",
       " 20: 50461.044,\n",
       " 21: 75691.566,\n",
       " 22: 100922.088,\n",
       " 23: 126152.61,\n",
       " 24: 151383.132,\n",
       " 25: 176613.65400000004,\n",
       " 26: 201844.176,\n",
       " 27: 227074.69799999997,\n",
       " 28: 252305.21999999997,\n",
       " 29: 277535.74199999997,\n",
       " 30: 302766.26399999997,\n",
       " 31: 327996.7859999999,\n",
       " 32: 353227.3079999999,\n",
       " 33: 378457.8299999999,\n",
       " 34: 403688.35199999984,\n",
       " 35: 428918.87399999984,\n",
       " 36: 453280.2659999998,\n",
       " 37: 477641.6579999998,\n",
       " 38: 502003.0499999998,\n",
       " 39: 526364.4419999998,\n",
       " 40: 550725.8339999998,\n",
       " 41: 575087.2259999997,\n",
       " 42: 599448.6179999997,\n",
       " 43: 623810.0099999997,\n",
       " 44: 648171.4019999997,\n",
       " 45: 672532.7939999995,\n",
       " 46: 696025.0559999996,\n",
       " 47: 719517.3179999996,\n",
       " 48: 743009.5799999996,\n",
       " 49: 766501.8419999996,\n",
       " 50: 789994.1039999996,\n",
       " 51: 813051.8009999996,\n",
       " 52: 836109.4979999997,\n",
       " 53: 859167.1949999997,\n",
       " 54: 882224.8919999998,\n",
       " 55: 905282.5889999998}"
      ]
     },
     "execution_count": 13,
     "metadata": {},
     "output_type": "execute_result"
    }
   ],
   "source": [
    "predicted_ra_balances_dict = calculate_ra_account_balances(date_of_birth, monthly_salary, annual_bonus)\n",
    "predicted_ra_balances_dict"
   ]
  },
  {
   "cell_type": "markdown",
   "metadata": {},
   "source": [
    "# Plot graph"
   ]
  },
  {
   "cell_type": "code",
   "execution_count": 14,
   "metadata": {},
   "outputs": [
    {
     "data": {
      "text/plain": [
       "<matplotlib.lines.Line2D at 0x1ed46320748>"
      ]
     },
     "execution_count": 14,
     "metadata": {},
     "output_type": "execute_result"
    },
    {
     "data": {
      "image/png": "[encoded data removed]",
      "text/plain": [
       "<Figure size 432x288 with 1 Axes>"
      ]
     },
     "metadata": {},
     "output_type": "display_data"
    }
   ],
   "source": [
    "sns.set_context(\"talk\")\n",
    "sns.set_style('darkgrid')\n",
    "\n",
    "plt.plot(predicted_ra_balances_dict.keys(), predicted_ra_balances_dict.values(), marker='.')\n",
    "plt.xlim(age, 55)\n",
    "plt.ylim(0)\n",
    "plt.xlabel('Age (years)')\n",
    "plt.ylabel('Predicted RA Amount')\n",
    "plt.axhline(y = min_cpf_sum, color='gray', ls=':')"
   ]
  },
  {
   "cell_type": "code",
   "execution_count": 15,
   "metadata": {},
   "outputs": [
    {
     "name": "stdout",
     "output_type": "stream",
     "text": [
      "You can achieve the minimum sum of 181000\n"
     ]
    }
   ],
   "source": [
    "min_sum = retrieveMinSum(date_turning_55)\n",
    "if list(predicted_ra_balances_dict.values())[-1] - min_sum >= 0:\n",
    "    print(\"You can achieve the minimum sum of \" + str(min_sum))\n",
    "else:\n",
    "    print(\"You cannot achieve the minimum sum of \" + str(min_sum))"
   ]
  },
  {
   "cell_type": "code",
   "execution_count": 16,
   "metadata": {},
   "outputs": [],
   "source": [
    "def calculate_mortgage(house_amount, months_to_go, downpayment_pct):\n",
    "    url = \"http://microservice.dev.bambu.life/api/generalCalculator/mortgageCalculators\"\n",
    "    payload = {\"houseAmount\":str(house_amount),\n",
    "               \"downpaymentPct\":str(downpayment_pct),\n",
    "               \"monthsToGo\":str(months_to_go)}\n",
    "    \n",
    "    response = requests.request(\"POST\", url, data=payload)\n",
    "    response = json.loads(response.text)\n",
    "    return response['response']\n",
    "\n",
    "def calculate_mortgage_downpayment(house_amount, months_to_go, downpayment_pct=0.1):\n",
    "    response = calculate_mortgage(house_amount=house_amount, months_to_go=months_to_go, downpayment_pct=downpayment_pct)\n",
    "    return response['downpayment']\n",
    "\n",
    "def calculate_mortgage_min_monthly_payment(house_amount, months_to_go, downpayment_pct=0.1):\n",
    "    response = calculate_mortgage(house_amount=house_amount, months_to_go=months_to_go, downpayment_pct=downpayment_pct)\n",
    "    return response['minMonthlyPayment']"
   ]
  },
  {
   "cell_type": "code",
   "execution_count": 17,
   "metadata": {},
   "outputs": [
    {
     "name": "stdout",
     "output_type": "stream",
     "text": [
      "50000\n",
      "1807.8005559058054\n"
     ]
    }
   ],
   "source": [
    "downpayment = calculate_mortgage_downpayment(houseAmount, monthsToGo)\n",
    "minMonthlyPayment = calculate_mortgage_min_monthly_payment(houseAmount, monthsToGo)\n",
    "\n",
    "print(downpayment)\n",
    "print(minMonthlyPayment)"
   ]
  },
  {
   "cell_type": "code",
   "execution_count": 18,
   "metadata": {},
   "outputs": [],
   "source": [
    "def calculate_mortgage_cpf_payments(house_amount, months_to_go, age_to_buy, downpayment_pct=0.1):\n",
    "    downpayment = calculate_mortgage_downpayment(house_amount, months_to_go)\n",
    "    minMonthlyPayment = calculate_mortgage_min_monthly_payment(house_amount, months_to_go)\n",
    "\n",
    "    capCPF = 1.2 * houseAmount\n",
    "    totalAmount = downpayment + minMonthlyPayment * monthsToGo\n",
    "\n",
    "    from collections import defaultdict\n",
    "    payment = defaultdict(int)\n",
    "\n",
    "    payment[ageToBuy] = downpayment * 0.75\n",
    "    \n",
    "    for i in range(0, yearsToGo - 1):\n",
    "        for j in range(1, 12):\n",
    "            amount = payment[i + ageToBuy]\n",
    "            payment[i + ageToBuy] = amount + minMonthlyPayment \n",
    "            capCPF = capCPF - minMonthlyPayment\n",
    "\n",
    "            if capCPF < 0:\n",
    "                break\n",
    "        # print (capCPF)\n",
    "        if capCPF < 0:\n",
    "            break\n",
    "    \n",
    "    return payment"
   ]
  },
  {
   "cell_type": "code",
   "execution_count": 19,
   "metadata": {},
   "outputs": [
    {
     "data": {
      "text/plain": [
       "defaultdict(int,\n",
       "            {30: 57385.80611496388,\n",
       "             31: 19885.806114963856,\n",
       "             32: 19885.806114963856,\n",
       "             33: 19885.806114963856,\n",
       "             34: 19885.806114963856,\n",
       "             35: 19885.806114963856,\n",
       "             36: 19885.806114963856,\n",
       "             37: 19885.806114963856,\n",
       "             38: 19885.806114963856,\n",
       "             39: 19885.806114963856,\n",
       "             40: 19885.806114963856,\n",
       "             41: 19885.806114963856,\n",
       "             42: 19885.806114963856,\n",
       "             43: 19885.806114963856,\n",
       "             44: 19885.806114963856,\n",
       "             45: 19885.806114963856,\n",
       "             46: 19885.806114963856,\n",
       "             47: 19885.806114963856,\n",
       "             48: 19885.806114963856,\n",
       "             49: 19885.806114963856,\n",
       "             50: 19885.806114963856,\n",
       "             51: 19885.806114963856,\n",
       "             52: 19885.806114963856,\n",
       "             53: 19885.806114963856,\n",
       "             54: 19885.806114963856,\n",
       "             55: 19885.806114963856,\n",
       "             56: 19885.806114963856,\n",
       "             57: 19885.806114963856,\n",
       "             58: 19885.806114963856})"
      ]
     },
     "execution_count": 19,
     "metadata": {},
     "output_type": "execute_result"
    }
   ],
   "source": [
    "mortgage_payments_dict = calculate_mortgage_cpf_payments(houseAmount, monthsToGo, ageToBuy)\n",
    "mortgage_payments_dict"
   ]
  },
  {
   "cell_type": "code",
   "execution_count": 20,
   "metadata": {},
   "outputs": [
    {
     "name": "stdout",
     "output_type": "stream",
     "text": [
      "(20012.523, 6959.478, 5217.999)\n",
      "(40025.046, 13918.956, 10435.998)\n",
      "(60037.569, 20878.434, 15653.997)\n",
      "(80050.092, 27837.912, 20871.996)\n",
      "(100062.615, 34797.39, 26089.995)\n",
      "(120075.138, 41756.868, 31307.994)\n",
      "(140087.66100000002, 48716.346000000005, 36525.993)\n",
      "(160100.184, 55675.82400000001, 41743.992)\n",
      "(180112.707, 62635.30200000001, 46961.990999999995)\n",
      "(200125.22999999998, 69594.78000000001, 52179.98999999999)\n",
      "(220137.75299999997, 76554.25800000002, 57397.98899999999)\n",
      "(182764.46988503606, 83513.73600000002, 62615.98799999998)\n",
      "(182891.18677007218, 90473.21400000002, 67833.98699999998)\n",
      "(183017.90365510833, 97432.69200000002, 73051.98599999998)\n",
      "(183144.62054014447, 104392.17000000003, 78269.98499999997)\n",
      "(183271.33742518062, 111351.64800000003, 83487.98399999997)\n",
      "(183398.05431021677, 118311.12600000003, 88705.98299999996)\n",
      "(181786.5111952529, 126139.73400000003, 94793.11199999996)\n",
      "(180174.96808028905, 133968.34200000003, 100880.24099999997)\n",
      "(178563.4249653252, 141796.95000000004, 106967.36999999997)\n",
      "(176951.88185036133, 149625.55800000005, 113054.49899999997)\n",
      "(175340.33873539747, 157454.16600000006, 119141.62799999997)\n",
      "(173728.7956204336, 165282.77400000006, 125228.75699999997)\n",
      "(172117.25250546975, 173111.38200000007, 131315.88599999997)\n",
      "(170505.7093905059, 180939.99000000008, 137403.01499999996)\n",
      "(168894.16627554203, 188768.5980000001, 143490.14399999994)\n",
      "(167282.62316057816, 196597.2060000001, 149577.27299999993)\n",
      "(163929.6010456143, 205294.9440000001, 156536.75099999993)\n",
      "(160576.57893065046, 213992.68200000012, 163496.22899999993)\n",
      "(157223.5568156866, 222690.42000000013, 170455.70699999994)\n",
      "(153870.53470072275, 231388.15800000014, 177415.18499999994)\n",
      "(150517.5125857589, 240085.89600000015, 184374.66299999994)\n",
      "(143684.75147079505, 249218.19900000014, 194379.31499999994)\n",
      "(136851.9903558312, 258350.50200000015, 204383.96699999995)\n",
      "(130019.22924086735, 267482.80500000017, 214388.61899999995)\n",
      "(123186.4681259035, 276615.1080000002, 224393.27099999995)\n",
      "(116353.70701093964, 285747.4110000002, 234397.92299999995)\n"
     ]
    },
    {
     "data": {
      "text/plain": [
       "{0: 0,\n",
       " 17: 0,\n",
       " 18: 0,\n",
       " 19: 25230.522,\n",
       " 20: 50461.044,\n",
       " 21: 75691.566,\n",
       " 22: 100922.088,\n",
       " 23: 126152.61,\n",
       " 24: 151383.132,\n",
       " 25: 176613.65400000004,\n",
       " 26: 201844.176,\n",
       " 27: 227074.69799999997,\n",
       " 28: 252305.21999999997,\n",
       " 29: 277535.74199999997,\n",
       " 30: 245380.45788503604,\n",
       " 31: 250725.17377007217,\n",
       " 32: 256069.8896551083,\n",
       " 33: 261414.60554014443,\n",
       " 34: 266759.3214251806,\n",
       " 35: 272104.03731021675,\n",
       " 36: 276579.62319525285,\n",
       " 37: 281055.209080289,\n",
       " 38: 285530.79496532516,\n",
       " 39: 290006.3808503613,\n",
       " 40: 294481.96673539747,\n",
       " 41: 298957.55262043356,\n",
       " 42: 303433.1385054697,\n",
       " 43: 307908.7243905058,\n",
       " 44: 312384.31027554197,\n",
       " 45: 316859.8961605781,\n",
       " 46: 320466.3520456143,\n",
       " 47: 324072.8079306504,\n",
       " 48: 327679.2638156866,\n",
       " 49: 331285.7197007227,\n",
       " 50: 334892.1755857589,\n",
       " 51: 338064.06647079496,\n",
       " 52: 341235.95735583117,\n",
       " 53: 344407.8482408673,\n",
       " 54: 347579.73912590346,\n",
       " 55: 350751.6300109396}"
      ]
     },
     "execution_count": 20,
     "metadata": {},
     "output_type": "execute_result"
    }
   ],
   "source": [
    "predicted_ra_balances_dict = calculate_ra_account_balances(date_of_birth, monthly_salary, annual_bonus, mortgage_payments_dict)\n",
    "predicted_ra_balances_dict"
   ]
  },
  {
   "cell_type": "code",
   "execution_count": 21,
   "metadata": {},
   "outputs": [
    {
     "data": {
      "text/plain": [
       "(0, 368289.2115114866)"
      ]
     },
     "execution_count": 21,
     "metadata": {},
     "output_type": "execute_result"
    },
    {
     "data": {
      "image/png": "[encoded data removed]",
      "text/plain": [
       "<Figure size 432x288 with 1 Axes>"
      ]
     },
     "metadata": {},
     "output_type": "display_data"
    }
   ],
   "source": [
    "sns.set_context(\"talk\")\n",
    "sns.set_style('darkgrid')\n",
    "\n",
    "plt.plot(predicted_ra_balances_dict.keys(), predicted_ra_balances_dict.values(), marker='.')\n",
    "plt.xlim(age, 55)\n",
    "plt.ylim(0)"
   ]
  },
  {
   "cell_type": "code",
   "execution_count": 22,
   "metadata": {},
   "outputs": [
    {
     "data": {
      "text/plain": [
       "15354.709433348791"
      ]
     },
     "execution_count": 22,
     "metadata": {},
     "output_type": "execute_result"
    }
   ],
   "source": [
    "labels = ['housing']\n",
    "values = sum(mortgage_payments_dict.values()) / len(mortgage_payments_dict.keys())\n",
    "values"
   ]
  },
  {
   "cell_type": "code",
   "execution_count": null,
   "metadata": {},
   "outputs": [],
   "source": []
  },
  {
   "cell_type": "code",
   "execution_count": null,
   "metadata": {},
   "outputs": [],
   "source": []
  }
 ],
 "metadata": {
  "kernelspec": {
   "display_name": "Python 3",
   "language": "python",
   "name": "python3"
  },
  "language_info": {
   "codemirror_mode": {
    "name": "ipython",
    "version": 3
   },
   "file_extension": ".py",
   "mimetype": "text/x-python",
   "name": "python",
   "nbconvert_exporter": "python",
   "pygments_lexer": "ipython3",
   "version": "3.6.4"
  }
 },
 "nbformat": 4,
 "nbformat_minor": 2
}
