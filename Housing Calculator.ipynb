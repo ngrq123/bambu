{
 "cells": [
  {
   "cell_type": "code",
   "execution_count": 1,
   "metadata": {},
   "outputs": [],
   "source": [
    "import requests\n",
    "import json\n",
    "import datetime\n",
    "import numpy as np\n",
    "import matplotlib.pyplot as plt\n",
    "import seaborn as sns\n",
    "%matplotlib inline\n",
    "\n",
    "# User inputs\n",
    "ageToBuy = 30\n",
    "houseAmount = 500000.00\n",
    "downpaymentPct = 0.1\n",
    "yearsToGo = 30\n",
    "monthsToGo = yearsToGo*12"
   ]
  },
  {
   "cell_type": "code",
   "execution_count": 2,
   "metadata": {},
   "outputs": [
    {
     "name": "stdout",
     "output_type": "stream",
     "text": [
      "{\"response\":{\"downpayment\":50000,\"mortgageAmount\":450000,\"SIBOR\":1.37658,\"bankSpread\":1.25,\"minMonthlyPayment\":1807.8005559058054}}\n"
     ]
    }
   ],
   "source": [
    "url = \"http://microservice.dev.bambu.life/api/generalCalculator/mortgageCalculators\"\n",
    "\n",
    "\n",
    "payload = {\"houseAmount\":str(houseAmount),\"downpaymentPct\":str(0.1),\"monthsToGo\":str(monthsToGo)}\n",
    "response = requests.request(\"POST\", url, data=payload)\n",
    "\n",
    "print(response.text)"
   ]
  },
  {
   "cell_type": "code",
   "execution_count": 3,
   "metadata": {},
   "outputs": [
    {
     "name": "stdout",
     "output_type": "stream",
     "text": [
      "{'response': {'downpayment': 50000, 'mortgageAmount': 450000, 'SIBOR': 1.37658, 'bankSpread': 1.25, 'minMonthlyPayment': 1807.8005559058054}}\n"
     ]
    }
   ],
   "source": [
    "response = json.loads(response.text)\n",
    "print(response)"
   ]
  },
  {
   "cell_type": "code",
   "execution_count": 4,
   "metadata": {},
   "outputs": [
    {
     "name": "stdout",
     "output_type": "stream",
     "text": [
      "50000\n",
      "1807.8005559058054\n"
     ]
    }
   ],
   "source": [
    "downpayment = response['response']['downpayment']\n",
    "minMonthlyPayment = response['response']['minMonthlyPayment']\n",
    "\n",
    "print(downpayment)\n",
    "print(minMonthlyPayment)"
   ]
  },
  {
   "cell_type": "code",
   "execution_count": 10,
   "metadata": {},
   "outputs": [
    {
     "name": "stdout",
     "output_type": "stream",
     "text": [
      "580114.1938850363\n",
      "560228.3877700726\n",
      "540342.5816551088\n",
      "520456.7755401451\n",
      "500570.9694251814\n",
      "480685.1633102177\n",
      "460799.35719525395\n",
      "440913.5510802902\n",
      "421027.7449653265\n",
      "401141.9388503628\n",
      "381256.13273539906\n",
      "361370.32662043534\n",
      "341484.5205054716\n",
      "321598.7143905079\n",
      "301712.9082755442\n",
      "281827.10216058046\n",
      "261941.29604561673\n",
      "242055.489930653\n",
      "222169.6838156893\n",
      "202283.87770072557\n",
      "182398.07158576185\n",
      "162512.26547079813\n",
      "142626.4593558344\n",
      "122740.65324087061\n",
      "102854.84712590673\n",
      "82969.04101094285\n",
      "63083.23489597897\n",
      "43197.428781015085\n",
      "23311.622666051226\n",
      "{30: 57385.80611496388, 31: 19885.806114963856, 32: 19885.806114963856, 33: 19885.806114963856, 34: 19885.806114963856, 35: 19885.806114963856, 36: 19885.806114963856, 37: 19885.806114963856, 38: 19885.806114963856, 39: 19885.806114963856, 40: 19885.806114963856, 41: 19885.806114963856, 42: 19885.806114963856, 43: 19885.806114963856, 44: 19885.806114963856, 45: 19885.806114963856, 46: 19885.806114963856, 47: 19885.806114963856, 48: 19885.806114963856, 49: 19885.806114963856, 50: 19885.806114963856, 51: 19885.806114963856, 52: 19885.806114963856, 53: 19885.806114963856, 54: 19885.806114963856, 55: 19885.806114963856, 56: 19885.806114963856, 57: 19885.806114963856, 58: 19885.806114963856}\n"
     ]
    }
   ],
   "source": [
    "capCPF = 1.2 * houseAmount\n",
    "totalAmount = downpayment + minMonthlyPayment * monthsToGo\n",
    "\n",
    "from collections import defaultdict\n",
    "payment = {}\n",
    "\n",
    "payment[ageToBuy] = downpayment*0.75\n",
    "for i in range(0, yearsToGo - 1):\n",
    "    for j in range(1, 12):\n",
    "        payment[i + ageToBuy] = payment.get(i + ageToBuy, 0) + minMonthlyPayment \n",
    "        capCPF = capCPF - minMonthlyPayment\n",
    "        \n",
    "        if capCPF < 0:\n",
    "            break\n",
    "    print (capCPF)\n",
    "    if capCPF < 0:\n",
    "        break\n",
    "    \n",
    "print(payment)\n"
   ]
  },
  {
   "cell_type": "code",
   "execution_count": null,
   "metadata": {},
   "outputs": [],
   "source": [
    "payment"
   ]
  },
  {
   "cell_type": "code",
   "execution_count": null,
   "metadata": {},
   "outputs": [],
   "source": [
    "plt.plot(payment.keys(), payment.values())"
   ]
  },
  {
   "cell_type": "code",
   "execution_count": null,
   "metadata": {},
   "outputs": [],
   "source": []
  }
 ],
 "metadata": {
  "kernelspec": {
   "display_name": "Python 3",
   "language": "python",
   "name": "python3"
  },
  "language_info": {
   "codemirror_mode": {
    "name": "ipython",
    "version": 3
   },
   "file_extension": ".py",
   "mimetype": "text/x-python",
   "name": "python",
   "nbconvert_exporter": "python",
   "pygments_lexer": "ipython3",
   "version": "3.6.4"
  }
 },
 "nbformat": 4,
 "nbformat_minor": 2
}
